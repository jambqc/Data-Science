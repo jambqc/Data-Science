{
 "cells": [
  {
   "cell_type": "markdown",
   "metadata": {},
   "source": [
    "# Python for Data Science: The Ultimate Beginners' Guide to Learning Python Data Science Step by Step\n",
    "\n",
    "**Author**: Jesse A. Marks\n",
    "**Date**: September 2019\n",
    "\n",
    "This notebook contains personal notes taken while progressing through a data science book () written by Ethan Williams "
   ]
  },
  {
   "cell_type": "markdown",
   "metadata": {},
   "source": [
    "## Chapter 1 Python Basics\n"
   ]
  },
  {
   "cell_type": "code",
   "execution_count": 56,
   "metadata": {},
   "outputs": [
    {
     "name": "stdout",
     "output_type": "stream",
     "text": [
      "5\n",
      "0b101\n",
      "15\n",
      "Almost infinity... 1.79e+308\n",
      "Python infinity... inf\n",
      "1.9e308 is also equivalent to infinity in Python3... inf\n",
      "\n",
      "Python equivalent to zero... 0.0\n"
     ]
    }
   ],
   "source": [
    "### integers with different bases ###\n",
    "\n",
    "# 101 in base2 \n",
    "print(0b101)\n",
    "\n",
    "# 5 in decimal to binary\n",
    "print(bin(5))\n",
    "\n",
    "# 17 in base8 (octal)\n",
    "print(0o17)\n",
    "# \n",
    "\n"
   ]
  },
  {
   "cell_type": "markdown",
   "metadata": {},
   "source": [
    "### Python Equivalence to 0 & infinity\n",
    "\\begin{cases}\n",
    "    x==0,      & \\mbox{if } x<=1e-325 \\\\ \n",
    "    x==\\infty, & \\mbox{if } x>=1.8e308 \n",
    "\\end{cases}\n",
    "\n"
   ]
  },
  {
   "cell_type": "code",
   "execution_count": null,
   "metadata": {},
   "outputs": [],
   "source": [
    "### infinity ###\n",
    "print(\"Almost infinity...\", 1.79e308)\n",
    "print(\"Python infinity...\", 1.8e308)\n",
    "print(\"1.9e308 is also equivalent to infinity in Python3...\", 1.9e308)\n",
    "print(\"\\nPython equivalent to zero...\", 1e-325)\n"
   ]
  }
 ],
 "metadata": {
  "kernelspec": {
   "display_name": "Python 3",
   "language": "python",
   "name": "python3"
  },
  "language_info": {
   "codemirror_mode": {
    "name": "ipython",
    "version": 3
   },
   "file_extension": ".py",
   "mimetype": "text/x-python",
   "name": "python",
   "nbconvert_exporter": "python",
   "pygments_lexer": "ipython3",
   "version": "3.7.1"
  },
  "toc": {
   "base_numbering": 1,
   "nav_menu": {},
   "number_sections": true,
   "sideBar": true,
   "skip_h1_title": false,
   "title_cell": "Table of Contents",
   "title_sidebar": "Contents",
   "toc_cell": false,
   "toc_position": {},
   "toc_section_display": true,
   "toc_window_display": false
  }
 },
 "nbformat": 4,
 "nbformat_minor": 2
}
