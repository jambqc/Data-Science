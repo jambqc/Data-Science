{
 "cells": [
  {
   "cell_type": "markdown",
   "metadata": {},
   "source": [
    "# Python for Data Science: The Ultimate Beginners' Guide to Learning Python Data Science Step by Step\n",
    "\n",
    "**Author**: Jesse A. Marks\n",
    "**Date**: September 2019\n",
    "\n",
    "This notebook contains personal notes taken while progressing through a data science book () written by Ethan Williams "
   ]
  },
  {
   "cell_type": "markdown",
   "metadata": {},
   "source": [
    "## Chapter 1 Python Basics\n"
   ]
  },
  {
   "cell_type": "code",
   "execution_count": 72,
   "metadata": {},
   "outputs": [
    {
     "name": "stdout",
     "output_type": "stream",
     "text": [
      "5\n",
      "0b101\n",
      "15\n"
     ]
    }
   ],
   "source": [
    "### integers with different bases ###\n",
    "\n",
    "# 101 in base2 \n",
    "print(0b101)\n",
    "\n",
    "# 5 in decimal to binary\n",
    "print(bin(5))\n",
    "\n",
    "# 17 in base8 (octal)\n",
    "print(0o17)"
   ]
  },
  {
   "cell_type": "markdown",
   "metadata": {},
   "source": [
    "### Python Equivalence to 0 & infinity\n",
    "\\begin{cases}\n",
    "    0,      & \\mbox{if } x<=1e-325 \\\\ \n",
    "    \\infty, & \\mbox{if } x>=1.8e308 \n",
    "\\end{cases}\n",
    "\n"
   ]
  },
  {
   "cell_type": "code",
   "execution_count": 1,
   "metadata": {},
   "outputs": [
    {
     "name": "stdout",
     "output_type": "stream",
     "text": [
      "Almost infinity... 1.79e+308\n",
      "Python infinity... inf\n",
      "1.9e308 is also equivalent to infinity in Python3... inf\n",
      "\n",
      "Python equivalent to zero... 0.0\n"
     ]
    }
   ],
   "source": [
    "### infinity ###\n",
    "print(\"Almost infinity...\", 1.79e308)\n",
    "print(\"Python infinity...\", 1.8e308)\n",
    "print(\"1.9e308 is also equivalent to infinity in Python3...\", 1.9e308)\n",
    "print(\"\\nPython equivalent to zero...\", 1e-325)\n"
   ]
  },
  {
   "cell_type": "markdown",
   "metadata": {},
   "source": [
    "### complex numbers\n",
    "Must use *j* instead of familiar *i*"
   ]
  },
  {
   "cell_type": "code",
   "execution_count": 4,
   "metadata": {},
   "outputs": [
    {
     "data": {
      "text/plain": [
       "(-11+18j)"
      ]
     },
     "execution_count": 4,
     "metadata": {},
     "output_type": "execute_result"
    }
   ],
   "source": [
    "(5 + 8j) * (1 + 2j)"
   ]
  },
  {
   "cell_type": "markdown",
   "metadata": {},
   "source": [
    "### ascii art"
   ]
  },
  {
   "cell_type": "code",
   "execution_count": 9,
   "metadata": {},
   "outputs": [
    {
     "name": "stdout",
     "output_type": "stream",
     "text": [
      "\n",
      "     ,%&& %&& %\n",
      "   ,%&%& %&%& %&\n",
      "  %& %&% &%&% % &%\n",
      " % &%% %&% &% %&%&,\n",
      " &%&% %&%& %& &%& %\n",
      "%%& %&%& %&%&% %&%%&\n",
      "&%&% %&% % %& &% %%&\n",
      "&& %&% %&%& %&% %&%'\n",
      " '%&% %&% %&&%&%%'%\n",
      "  % %& %& %&% &%%\n",
      "    `\\%%.'  /`%&'\n",
      "      |    |            /`-._           _\\/\n",
      "      |,   |_          /     `-._ ..--~`_\n",
      "      |;   |_`\\_      /  ,\\.~`  `-._ -  ^\n",
      "      |;:  |/^}__..-,@   .~`    ~    `o ~\n",
      "      |;:  |(____.-'     '.   ~   -    `    ~\n",
      "      |;:  |  \\ / `\\       //.  -    ^   ~\n",
      "      |;:  |\\ /' /\\_\\_        ~. _ ~   -   //-\n",
      " jgs\\/;:   '--' `---`           `\\//-\\///\n",
      "\n"
     ]
    }
   ],
   "source": [
    "print(\"\"\"\n",
    "     ,%&& %&& %\n",
    "   ,%&%& %&%& %&\n",
    "  %& %&% &%&% % &%\n",
    " % &%% %&% &% %&%&,\n",
    " &%&% %&%& %& &%& %\n",
    "%%& %&%& %&%&% %&%%&\n",
    "&%&% %&% % %& &% %%&\n",
    "&& %&% %&%& %&% %&%'\n",
    " '%&% %&% %&&%&%%'%\n",
    "  % %& %& %&% &%%\n",
    "    `\\%%.'  /`%&'\n",
    "      |    |            /`-._           _\\\\/\n",
    "      |,   |_          /     `-._ ..--~`_\n",
    "      |;   |_`\\_      /  ,\\\\.~`  `-._ -  ^\n",
    "      |;:  |/^}__..-,@   .~`    ~    `o ~\n",
    "      |;:  |(____.-'     '.   ~   -    `    ~\n",
    "      |;:  |  \\ / `\\       //.  -    ^   ~\n",
    "      |;:  |\\ /' /\\_\\_        ~. _ ~   -   //-\n",
    " jgs\\\\/;:   \\'--' `---`           `\\\\//-\\\\///\n",
    "\"\"\")"
   ]
  },
  {
   "cell_type": "code",
   "execution_count": 20,
   "metadata": {},
   "outputs": [
    {
     "name": "stdout",
     "output_type": "stream",
     "text": [
      "Jesse\n",
      "Marks\n",
      "\n",
      "Jesse\n",
      "Marks\n",
      "\n",
      "Jesse\n",
      "Marks\n",
      "\n",
      "\n"
     ]
    }
   ],
   "source": [
    "print(\"Jesse\\nMarks\\n\\n\"*3)"
   ]
  },
  {
   "cell_type": "markdown",
   "metadata": {},
   "source": [
    "### variable naming\n",
    "Variables should be lowercase separated and if the variable-name contains multiple words, separate by an underscore. <br>\n",
    "**Note:** Constants should be all caps."
   ]
  },
  {
   "cell_type": "code",
   "execution_count": 33,
   "metadata": {},
   "outputs": [
    {
     "name": "stdout",
     "output_type": "stream",
     "text": [
      "Type an integer for the current temperature in celcius then press enter, please.0\n",
      "The current temperature is: 32.0 degrees Fahrenheit.\n"
     ]
    }
   ],
   "source": [
    "CELSIUS_CONVERSION = 9/5\n",
    "current_celcius = input(\"Type an integer for the current temperature in celcius then press enter, please.\")\n",
    "\n",
    "degrees_fahrenheit = CELSIUS_CONVERSION * int(current_celcius) + 32\n",
    "print(\"The current temperature is:\", degrees_fahrenheit, \"degrees Fahrenheit.\")"
   ]
  },
  {
   "cell_type": "markdown",
   "metadata": {},
   "source": [
    "### lists "
   ]
  },
  {
   "cell_type": "code",
   "execution_count": 53,
   "metadata": {},
   "outputs": [
    {
     "name": "stdout",
     "output_type": "stream",
     "text": [
      "['red', 'green']\n",
      "['red', 'green', 'blue']\n",
      "['red', 'green', 'blue', 'grey', 'yellow']\n",
      "['red', 'green', 'blue', 'orange', 'grey', 'yellow']\n",
      "['red', 'green', 'blue', 'grey', 'yellow']\n",
      "['red', 'green', 'blue', 'grey', 'yellow', 'red', 'green', 'blue', 'grey', 'yellow']\n"
     ]
    }
   ],
   "source": [
    "colors_list = [\"red\", \"green\"]\n",
    "print(colors_list)\n",
    "\n",
    "# adds blue to the end of the list\n",
    "colors_list.append(\"blue\")\n",
    "print(colors_list)\n",
    "\n",
    "# add multiple items to the end of the list\n",
    "colors_list.extend([\"grey\", \"yellow\"])\n",
    "print(colors_list)\n",
    "\n",
    "# insert item inbetween blue and grey\n",
    "colors_list.insert(3, \"orange\")\n",
    "print(colors_list)\n",
    "\n",
    "# remove orange from the list\n",
    "colors_list.remove(\"orange\")\n",
    "print(colors_list)\n",
    "\n",
    "# print double the list\n",
    "print(colors_list * 2)"
   ]
  },
  {
   "cell_type": "markdown",
   "metadata": {},
   "source": [
    "#### exercise"
   ]
  },
  {
   "cell_type": "code",
   "execution_count": 39,
   "metadata": {},
   "outputs": [
    {
     "name": "stdout",
     "output_type": "stream",
     "text": [
      "Beans beans everywhere!\n"
     ]
    },
    {
     "data": {
      "text/plain": [
       "{'beans'}"
      ]
     },
     "execution_count": 39,
     "metadata": {},
     "output_type": "execute_result"
    }
   ],
   "source": [
    "list1 = [\"beans\", \"rice\"]\n",
    "list2 = [\"tortilla\", \"corn\", \"beans\"]\n",
    "\n",
    "if \"beans\" in list1 and \"beans\" in list2:\n",
    "    print(\"Beans beans everywhere!\")\n",
    "    \n",
    "set(list1) & set(list2)"
   ]
  },
  {
   "cell_type": "markdown",
   "metadata": {},
   "source": [
    "### tuples"
   ]
  },
  {
   "cell_type": "code",
   "execution_count": 70,
   "metadata": {},
   "outputs": [
    {
     "name": "stdout",
     "output_type": "stream",
     "text": [
      "(1, 'fish', 2, 'fish')\n",
      "('red', 'fish', 'blue', 'fish')\n",
      "1 2\n",
      "2 1\n",
      "\n",
      "The size of the list is: 72        \n",
      "The size of the tuple is: 56\n"
     ]
    }
   ],
   "source": [
    "my_tuple = (1, \"fish\", 2, \"fish\")\n",
    "print(my_tuple)\n",
    "\n",
    "my_tuple2 = \"red\", \"fish\", \"blue\", \"fish\"\n",
    "print(my_tuple2)\n",
    "\n",
    "a = 1\n",
    "b = 2\n",
    "print(a,b)\n",
    "\n",
    "(a, b) = (b, a) # swap values with tuple packing/unpacking\n",
    "print(a, b)\n",
    "\n",
    "# compare to the size of a list\n",
    "\n",
    "my_list = [1, \"fish\", 2, \"fish\"]\n",
    "\n",
    "list_size = my_list.__sizeof__()\n",
    "tuple_size = my_tuple.__sizeof__()\n",
    "print(\"\\nThe size of the list is: {} \\\n",
    "       \\nThe size of the tuple is: {}\".format(list_size, tuple_size))"
   ]
  },
  {
   "cell_type": "markdown",
   "metadata": {},
   "source": [
    "### dictionaries\n",
    "Using strings as keys makes your code more readable and easier to call your values."
   ]
  },
  {
   "cell_type": "code",
   "execution_count": 19,
   "metadata": {},
   "outputs": [
    {
     "name": "stdout",
     "output_type": "stream",
     "text": [
      "{'a': 1, 'b': 2}\n",
      "{'r': 3, 'q': 4, 'a': 1}\n"
     ]
    }
   ],
   "source": [
    "## merge dictionaries ##\n",
    "a = {\"a\": 1}\n",
    "b = {\"b\": 2}\n",
    "c = {**a, **b}\n",
    "d = dict(r = 3, q = 4, **a)\n",
    "print(c)\n",
    "print(d)"
   ]
  },
  {
   "cell_type": "code",
   "execution_count": null,
   "metadata": {
    "collapsed": true
   },
   "outputs": [],
   "source": []
  },
  {
   "cell_type": "code",
   "execution_count": null,
   "metadata": {
    "collapsed": true
   },
   "outputs": [],
   "source": []
  }
 ],
 "metadata": {
  "kernelspec": {
   "display_name": "Python 3",
   "language": "python",
   "name": "python3"
  },
  "language_info": {
   "codemirror_mode": {
    "name": "ipython",
    "version": 3
   },
   "file_extension": ".py",
   "mimetype": "text/x-python",
   "name": "python",
   "nbconvert_exporter": "python",
   "pygments_lexer": "ipython3",
   "version": "3.6.1"
  },
  "toc": {
   "base_numbering": 1,
   "nav_menu": {},
   "number_sections": true,
   "sideBar": true,
   "skip_h1_title": false,
   "title_cell": "Table of Contents",
   "title_sidebar": "Contents",
   "toc_cell": false,
   "toc_position": {},
   "toc_section_display": true,
   "toc_window_display": false
  }
 },
 "nbformat": 4,
 "nbformat_minor": 2
}
